{
  "metadata": {
    "kernelspec": {
      "language": "python",
      "display_name": "Python 3",
      "name": "python3"
    },
    "language_info": {
      "name": "python",
      "version": "3.7.12",
      "mimetype": "text/x-python",
      "codemirror_mode": {
        "name": "ipython",
        "version": 3
      },
      "pygments_lexer": "ipython3",
      "nbconvert_exporter": "python",
      "file_extension": ".py"
    },
    "colab": {
      "name": "coronavirus-tweets-nlp-text-classification.ipynb",
      "provenance": []
    }
  },
  "nbformat_minor": 0,
  "nbformat": 4,
  "cells": [
    {
      "cell_type": "code",
      "source": [
        "import numpy as np \n",
        "import pandas as pd\n",
        "\n",
        "#For data visualization\n",
        "import matplotlib.pyplot as plt\n",
        "import seaborn as sns\n",
        "\n",
        "#For text preprocessing\n",
        "import re\n",
        "import nltk\n",
        "from nltk.stem.porter import PorterStemmer\n",
        "from nltk.tokenize import TweetTokenizer\n",
        "from nltk.tokenize import word_tokenize \n",
        "from nltk.corpus import stopwords\n",
        "\n",
        "#For creating the neural network model\n",
        "import tensorflow as tf\n",
        "from tensorflow.keras.preprocessing.text import Tokenizer\n",
        "from tensorflow.keras.preprocessing.sequence import pad_sequences\n",
        "import tensorflow.keras.layers as L\n",
        "from tensorflow.keras.losses import SparseCategoricalCrossentropy\n",
        "from tensorflow.keras.optimizers import Adam"
      ],
      "metadata": {
        "_uuid": "8f2839f25d086af736a60e9eeb907d3b93b6e0e5",
        "_cell_guid": "b1076dfc-b9ad-4769-8c92-a6c4dae69d19",
        "execution": {
          "iopub.status.busy": "2022-03-03T04:49:41.094404Z",
          "iopub.execute_input": "2022-03-03T04:49:41.095110Z",
          "iopub.status.idle": "2022-03-03T04:49:41.101176Z",
          "shell.execute_reply.started": "2022-03-03T04:49:41.095074Z",
          "shell.execute_reply": "2022-03-03T04:49:41.100426Z"
        },
        "trusted": true,
        "id": "D04EqZpmK_Kk"
      },
      "execution_count": 1,
      "outputs": []
    },
    {
      "cell_type": "code",
      "source": [
        "train = pd.read_csv('/Corona_NLP_test.csv',encoding='latin1')\n",
        "test = pd.read_csv('/Corona_NLP_test.csv',encoding='latin1')"
      ],
      "metadata": {
        "execution": {
          "iopub.status.busy": "2022-03-03T04:49:41.248213Z",
          "iopub.execute_input": "2022-03-03T04:49:41.248964Z",
          "iopub.status.idle": "2022-03-03T04:49:41.469822Z",
          "shell.execute_reply.started": "2022-03-03T04:49:41.248930Z",
          "shell.execute_reply": "2022-03-03T04:49:41.468879Z"
        },
        "trusted": true,
        "id": "oG93XC05K_Kx"
      },
      "execution_count": 2,
      "outputs": []
    },
    {
      "cell_type": "code",
      "source": [
        "train.head()\n"
      ],
      "metadata": {
        "execution": {
          "iopub.status.busy": "2022-03-03T04:49:41.615569Z",
          "iopub.execute_input": "2022-03-03T04:49:41.615837Z",
          "iopub.status.idle": "2022-03-03T04:49:41.627298Z",
          "shell.execute_reply.started": "2022-03-03T04:49:41.615809Z",
          "shell.execute_reply": "2022-03-03T04:49:41.626473Z"
        },
        "trusted": true,
        "colab": {
          "base_uri": "https://localhost:8080/",
          "height": 205
        },
        "id": "3xxIM2hWK_Ky",
        "outputId": "0d7b513a-1939-4a6c-ad90-16afeb4f22f7"
      },
      "execution_count": 3,
      "outputs": [
        {
          "output_type": "execute_result",
          "data": {
            "text/html": [
              "\n",
              "  <div id=\"df-8e6dda17-f1af-4d0f-b3d8-4e113abd53c4\">\n",
              "    <div class=\"colab-df-container\">\n",
              "      <div>\n",
              "<style scoped>\n",
              "    .dataframe tbody tr th:only-of-type {\n",
              "        vertical-align: middle;\n",
              "    }\n",
              "\n",
              "    .dataframe tbody tr th {\n",
              "        vertical-align: top;\n",
              "    }\n",
              "\n",
              "    .dataframe thead th {\n",
              "        text-align: right;\n",
              "    }\n",
              "</style>\n",
              "<table border=\"1\" class=\"dataframe\">\n",
              "  <thead>\n",
              "    <tr style=\"text-align: right;\">\n",
              "      <th></th>\n",
              "      <th>UserName</th>\n",
              "      <th>ScreenName</th>\n",
              "      <th>Location</th>\n",
              "      <th>TweetAt</th>\n",
              "      <th>OriginalTweet</th>\n",
              "      <th>Sentiment</th>\n",
              "    </tr>\n",
              "  </thead>\n",
              "  <tbody>\n",
              "    <tr>\n",
              "      <th>0</th>\n",
              "      <td>1</td>\n",
              "      <td>44953</td>\n",
              "      <td>NYC</td>\n",
              "      <td>02-03-2020</td>\n",
              "      <td>TRENDING: New Yorkers encounter empty supermar...</td>\n",
              "      <td>Extremely Negative</td>\n",
              "    </tr>\n",
              "    <tr>\n",
              "      <th>1</th>\n",
              "      <td>2</td>\n",
              "      <td>44954</td>\n",
              "      <td>Seattle, WA</td>\n",
              "      <td>02-03-2020</td>\n",
              "      <td>When I couldn't find hand sanitizer at Fred Me...</td>\n",
              "      <td>Positive</td>\n",
              "    </tr>\n",
              "    <tr>\n",
              "      <th>2</th>\n",
              "      <td>3</td>\n",
              "      <td>44955</td>\n",
              "      <td>NaN</td>\n",
              "      <td>02-03-2020</td>\n",
              "      <td>Find out how you can protect yourself and love...</td>\n",
              "      <td>Extremely Positive</td>\n",
              "    </tr>\n",
              "    <tr>\n",
              "      <th>3</th>\n",
              "      <td>4</td>\n",
              "      <td>44956</td>\n",
              "      <td>Chicagoland</td>\n",
              "      <td>02-03-2020</td>\n",
              "      <td>#Panic buying hits #NewYork City as anxious sh...</td>\n",
              "      <td>Negative</td>\n",
              "    </tr>\n",
              "    <tr>\n",
              "      <th>4</th>\n",
              "      <td>5</td>\n",
              "      <td>44957</td>\n",
              "      <td>Melbourne, Victoria</td>\n",
              "      <td>03-03-2020</td>\n",
              "      <td>#toiletpaper #dunnypaper #coronavirus #coronav...</td>\n",
              "      <td>Neutral</td>\n",
              "    </tr>\n",
              "  </tbody>\n",
              "</table>\n",
              "</div>\n",
              "      <button class=\"colab-df-convert\" onclick=\"convertToInteractive('df-8e6dda17-f1af-4d0f-b3d8-4e113abd53c4')\"\n",
              "              title=\"Convert this dataframe to an interactive table.\"\n",
              "              style=\"display:none;\">\n",
              "        \n",
              "  <svg xmlns=\"http://www.w3.org/2000/svg\" height=\"24px\"viewBox=\"0 0 24 24\"\n",
              "       width=\"24px\">\n",
              "    <path d=\"M0 0h24v24H0V0z\" fill=\"none\"/>\n",
              "    <path d=\"M18.56 5.44l.94 2.06.94-2.06 2.06-.94-2.06-.94-.94-2.06-.94 2.06-2.06.94zm-11 1L8.5 8.5l.94-2.06 2.06-.94-2.06-.94L8.5 2.5l-.94 2.06-2.06.94zm10 10l.94 2.06.94-2.06 2.06-.94-2.06-.94-.94-2.06-.94 2.06-2.06.94z\"/><path d=\"M17.41 7.96l-1.37-1.37c-.4-.4-.92-.59-1.43-.59-.52 0-1.04.2-1.43.59L10.3 9.45l-7.72 7.72c-.78.78-.78 2.05 0 2.83L4 21.41c.39.39.9.59 1.41.59.51 0 1.02-.2 1.41-.59l7.78-7.78 2.81-2.81c.8-.78.8-2.07 0-2.86zM5.41 20L4 18.59l7.72-7.72 1.47 1.35L5.41 20z\"/>\n",
              "  </svg>\n",
              "      </button>\n",
              "      \n",
              "  <style>\n",
              "    .colab-df-container {\n",
              "      display:flex;\n",
              "      flex-wrap:wrap;\n",
              "      gap: 12px;\n",
              "    }\n",
              "\n",
              "    .colab-df-convert {\n",
              "      background-color: #E8F0FE;\n",
              "      border: none;\n",
              "      border-radius: 50%;\n",
              "      cursor: pointer;\n",
              "      display: none;\n",
              "      fill: #1967D2;\n",
              "      height: 32px;\n",
              "      padding: 0 0 0 0;\n",
              "      width: 32px;\n",
              "    }\n",
              "\n",
              "    .colab-df-convert:hover {\n",
              "      background-color: #E2EBFA;\n",
              "      box-shadow: 0px 1px 2px rgba(60, 64, 67, 0.3), 0px 1px 3px 1px rgba(60, 64, 67, 0.15);\n",
              "      fill: #174EA6;\n",
              "    }\n",
              "\n",
              "    [theme=dark] .colab-df-convert {\n",
              "      background-color: #3B4455;\n",
              "      fill: #D2E3FC;\n",
              "    }\n",
              "\n",
              "    [theme=dark] .colab-df-convert:hover {\n",
              "      background-color: #434B5C;\n",
              "      box-shadow: 0px 1px 3px 1px rgba(0, 0, 0, 0.15);\n",
              "      filter: drop-shadow(0px 1px 2px rgba(0, 0, 0, 0.3));\n",
              "      fill: #FFFFFF;\n",
              "    }\n",
              "  </style>\n",
              "\n",
              "      <script>\n",
              "        const buttonEl =\n",
              "          document.querySelector('#df-8e6dda17-f1af-4d0f-b3d8-4e113abd53c4 button.colab-df-convert');\n",
              "        buttonEl.style.display =\n",
              "          google.colab.kernel.accessAllowed ? 'block' : 'none';\n",
              "\n",
              "        async function convertToInteractive(key) {\n",
              "          const element = document.querySelector('#df-8e6dda17-f1af-4d0f-b3d8-4e113abd53c4');\n",
              "          const dataTable =\n",
              "            await google.colab.kernel.invokeFunction('convertToInteractive',\n",
              "                                                     [key], {});\n",
              "          if (!dataTable) return;\n",
              "\n",
              "          const docLinkHtml = 'Like what you see? Visit the ' +\n",
              "            '<a target=\"_blank\" href=https://colab.research.google.com/notebooks/data_table.ipynb>data table notebook</a>'\n",
              "            + ' to learn more about interactive tables.';\n",
              "          element.innerHTML = '';\n",
              "          dataTable['output_type'] = 'display_data';\n",
              "          await google.colab.output.renderOutput(dataTable, element);\n",
              "          const docLink = document.createElement('div');\n",
              "          docLink.innerHTML = docLinkHtml;\n",
              "          element.appendChild(docLink);\n",
              "        }\n",
              "      </script>\n",
              "    </div>\n",
              "  </div>\n",
              "  "
            ],
            "text/plain": [
              "   UserName  ...           Sentiment\n",
              "0         1  ...  Extremely Negative\n",
              "1         2  ...            Positive\n",
              "2         3  ...  Extremely Positive\n",
              "3         4  ...            Negative\n",
              "4         5  ...             Neutral\n",
              "\n",
              "[5 rows x 6 columns]"
            ]
          },
          "metadata": {},
          "execution_count": 3
        }
      ]
    },
    {
      "cell_type": "code",
      "source": [
        "print('Shape of Train datatset:',train.shape)\n",
        "print('Shape of Test dataset:',test.shape)"
      ],
      "metadata": {
        "execution": {
          "iopub.status.busy": "2022-03-03T04:49:41.776086Z",
          "iopub.execute_input": "2022-03-03T04:49:41.776385Z",
          "iopub.status.idle": "2022-03-03T04:49:41.782199Z",
          "shell.execute_reply.started": "2022-03-03T04:49:41.776355Z",
          "shell.execute_reply": "2022-03-03T04:49:41.781136Z"
        },
        "trusted": true,
        "colab": {
          "base_uri": "https://localhost:8080/"
        },
        "id": "sqxLFBuCK_Kz",
        "outputId": "ddb5e468-24ce-477c-a232-03d2bec775b7"
      },
      "execution_count": 4,
      "outputs": [
        {
          "output_type": "stream",
          "name": "stdout",
          "text": [
            "Shape of Train datatset: (3798, 6)\n",
            "Shape of Test dataset: (3798, 6)\n"
          ]
        }
      ]
    },
    {
      "cell_type": "code",
      "source": [
        "#Train dataset\n",
        "train.isnull().sum()\n"
      ],
      "metadata": {
        "execution": {
          "iopub.status.busy": "2022-03-03T04:49:41.934456Z",
          "iopub.execute_input": "2022-03-03T04:49:41.934718Z",
          "iopub.status.idle": "2022-03-03T04:49:41.952872Z",
          "shell.execute_reply.started": "2022-03-03T04:49:41.934690Z",
          "shell.execute_reply": "2022-03-03T04:49:41.952030Z"
        },
        "trusted": true,
        "colab": {
          "base_uri": "https://localhost:8080/"
        },
        "id": "-XoORhiCK_Kz",
        "outputId": "ad99bcb0-1969-434b-a01a-809fee2def8a"
      },
      "execution_count": 5,
      "outputs": [
        {
          "output_type": "execute_result",
          "data": {
            "text/plain": [
              "UserName           0\n",
              "ScreenName         0\n",
              "Location         834\n",
              "TweetAt            0\n",
              "OriginalTweet      0\n",
              "Sentiment          0\n",
              "dtype: int64"
            ]
          },
          "metadata": {},
          "execution_count": 5
        }
      ]
    },
    {
      "cell_type": "code",
      "source": [
        "#Test dataset\n",
        "test.isnull().sum()"
      ],
      "metadata": {
        "execution": {
          "iopub.status.busy": "2022-03-03T04:49:42.085037Z",
          "iopub.execute_input": "2022-03-03T04:49:42.085326Z",
          "iopub.status.idle": "2022-03-03T04:49:42.095140Z",
          "shell.execute_reply.started": "2022-03-03T04:49:42.085293Z",
          "shell.execute_reply": "2022-03-03T04:49:42.094310Z"
        },
        "trusted": true,
        "colab": {
          "base_uri": "https://localhost:8080/"
        },
        "id": "eHntUIfUK_K0",
        "outputId": "9f506f25-0d7b-4cf5-fc10-67f9db2892e9"
      },
      "execution_count": 6,
      "outputs": [
        {
          "output_type": "execute_result",
          "data": {
            "text/plain": [
              "UserName           0\n",
              "ScreenName         0\n",
              "Location         834\n",
              "TweetAt            0\n",
              "OriginalTweet      0\n",
              "Sentiment          0\n",
              "dtype: int64"
            ]
          },
          "metadata": {},
          "execution_count": 6
        }
      ]
    },
    {
      "cell_type": "markdown",
      "source": [
        "# Data Visualization of different sentiments classes\n"
      ],
      "metadata": {
        "id": "ZHZ9A-aTK_K1"
      }
    },
    {
      "cell_type": "code",
      "source": [
        "#Defining variables to count the appearances of each sentiments in the dataset\n",
        "print(\"Train\")\n",
        "dist_train = train['Sentiment'].value_counts()\n",
        "print(dist_train)\n",
        "print(\"Test\")\n",
        "dist_test = test['Sentiment'].value_counts()\n",
        "print(dist_test)"
      ],
      "metadata": {
        "execution": {
          "iopub.status.busy": "2022-03-03T04:49:42.438489Z",
          "iopub.execute_input": "2022-03-03T04:49:42.438772Z",
          "iopub.status.idle": "2022-03-03T04:49:42.450891Z",
          "shell.execute_reply.started": "2022-03-03T04:49:42.438744Z",
          "shell.execute_reply": "2022-03-03T04:49:42.450037Z"
        },
        "trusted": true,
        "colab": {
          "base_uri": "https://localhost:8080/"
        },
        "id": "roFHxOF5K_K3",
        "outputId": "a5820b72-d95a-4013-b34a-f2fafaa554b8"
      },
      "execution_count": 7,
      "outputs": [
        {
          "output_type": "stream",
          "name": "stdout",
          "text": [
            "Train\n",
            "Negative              1041\n",
            "Positive               947\n",
            "Neutral                619\n",
            "Extremely Positive     599\n",
            "Extremely Negative     592\n",
            "Name: Sentiment, dtype: int64\n",
            "Test\n",
            "Negative              1041\n",
            "Positive               947\n",
            "Neutral                619\n",
            "Extremely Positive     599\n",
            "Extremely Negative     592\n",
            "Name: Sentiment, dtype: int64\n"
          ]
        }
      ]
    },
    {
      "cell_type": "code",
      "source": [
        "#Create plot\n",
        "sns.barplot(x= dist_train.index, y= dist_train.values, palette = 'magma')\n",
        "\n",
        "#Set the size of plot\n",
        "sns.set(rc = {'figure.figsize':(20,7)})\n",
        "\n",
        "#Set the title for plot\n",
        "plt.title('Train Dataset: Sentiment Class Distibution')\n",
        "\n",
        "#Label the X axis of the plot\n",
        "plt.xlabel('Sentiments')\n",
        "\n",
        "#Label the Y axis of the plot\n",
        "plt.ylabel('Count')"
      ],
      "metadata": {
        "execution": {
          "iopub.status.busy": "2022-03-03T04:49:42.610149Z",
          "iopub.execute_input": "2022-03-03T04:49:42.611032Z",
          "iopub.status.idle": "2022-03-03T04:49:42.845280Z",
          "shell.execute_reply.started": "2022-03-03T04:49:42.610992Z",
          "shell.execute_reply": "2022-03-03T04:49:42.844430Z"
        },
        "trusted": true,
        "colab": {
          "base_uri": "https://localhost:8080/",
          "height": 312
        },
        "id": "Xmg2velcK_K5",
        "outputId": "35556b04-9391-485b-f721-93f9c33349b0"
      },
      "execution_count": 8,
      "outputs": [
        {
          "output_type": "execute_result",
          "data": {
            "text/plain": [
              "Text(0, 0.5, 'Count')"
            ]
          },
          "metadata": {},
          "execution_count": 8
        },
        {
          "output_type": "display_data",
          "data": {
            "image/png": "[encoded data removed]",
            "text/plain": [
              "<Figure size 432x288 with 1 Axes>"
            ]
          },
          "metadata": {
            "needs_background": "light"
          }
        }
      ]
    },
    {
      "cell_type": "code",
      "source": [
        "#Create plot\n",
        "sns.barplot(x= dist_test.index, y= dist_test.values, palette = 'magma')\n",
        "\n",
        "#Set the size of plot\n",
        "sns.set(rc = {'figure.figsize':(10,7)})\n",
        "\n",
        "#Set the title for plot\n",
        "plt.title('Test Dataset: Sentiment Class Distibution')\n",
        "\n",
        "#Label the X axis of the plot\n",
        "plt.xlabel('Sentiments')\n",
        "\n",
        "#Label the Y axis of the plot\n",
        "plt.ylabel('Count')\n"
      ],
      "metadata": {
        "execution": {
          "iopub.status.busy": "2022-03-03T04:49:42.847899Z",
          "iopub.execute_input": "2022-03-03T04:49:42.848351Z",
          "iopub.status.idle": "2022-03-03T04:49:43.094110Z",
          "shell.execute_reply.started": "2022-03-03T04:49:42.848308Z",
          "shell.execute_reply": "2022-03-03T04:49:43.093167Z"
        },
        "trusted": true,
        "colab": {
          "base_uri": "https://localhost:8080/",
          "height": 481
        },
        "id": "j8T_59xfK_K6",
        "outputId": "5644abc8-bb64-4f99-ed5e-b62f295a3235"
      },
      "execution_count": 9,
      "outputs": [
        {
          "output_type": "execute_result",
          "data": {
            "text/plain": [
              "Text(0, 0.5, 'Count')"
            ]
          },
          "metadata": {},
          "execution_count": 9
        },
        {
          "output_type": "display_data",
          "data": {
            "image/png": "[encoded data removed]",
            "text/plain": [
              "<Figure size 1440x504 with 1 Axes>"
            ]
          },
          "metadata": {}
        }
      ]
    },
    {
      "cell_type": "markdown",
      "source": [
        "- We don't need any other columns except Tweets and Sentiment. We will predict the sentiments only on the basis of tweets irrespective of their location or any other features.\n"
      ],
      "metadata": {
        "id": "Y5-sOh-8K_K7"
      }
    },
    {
      "cell_type": "code",
      "source": [
        "\n"
      ],
      "metadata": {
        "id": "gXLiDHO8K_K8"
      },
      "execution_count": 9,
      "outputs": []
    },
    {
      "cell_type": "markdown",
      "source": [
        "# Define features and target variables"
      ],
      "metadata": {
        "id": "5lVQtOx1K_K9"
      }
    },
    {
      "cell_type": "markdown",
      "source": [
        ""
      ],
      "metadata": {
        "id": "pNfB8_CmK_K9"
      }
    },
    {
      "cell_type": "code",
      "source": [
        "X = train['OriginalTweet'].copy()\n",
        "y = train['Sentiment'].copy()"
      ],
      "metadata": {
        "execution": {
          "iopub.status.busy": "2022-03-03T04:49:43.697877Z",
          "iopub.execute_input": "2022-03-03T04:49:43.698813Z",
          "iopub.status.idle": "2022-03-03T04:49:43.704176Z",
          "shell.execute_reply.started": "2022-03-03T04:49:43.698772Z",
          "shell.execute_reply": "2022-03-03T04:49:43.703591Z"
        },
        "trusted": true,
        "id": "4fseymo1K_K9"
      },
      "execution_count": 10,
      "outputs": []
    },
    {
      "cell_type": "markdown",
      "source": [
        "- Text preprocessing: Remove Stopwords and Tokenize\n"
      ],
      "metadata": {
        "id": "j-sHzrQnK_K-"
      }
    },
    {
      "cell_type": "code",
      "source": [
        "def data_cleaner(tweet):\n",
        "    \n",
        "    # remove urls\n",
        "    tweet = re.sub(r'http\\S+', ' ', tweet)\n",
        "    \n",
        "    # remove html tags\n",
        "    tweet = re.sub(r'<.*?>',' ', tweet)\n",
        "    \n",
        "    # remove digits\n",
        "    tweet = re.sub(r'\\d+',' ', tweet)\n",
        "    \n",
        "    # remove hashtags\n",
        "    tweet = re.sub(r'#\\w+',' ', tweet)\n",
        "    \n",
        "    # remove mentions\n",
        "    tweet = re.sub(r'@\\w+',' ', tweet)\n",
        "    \n",
        "    #removing stop words\n",
        "    tweet = tweet.split()\n",
        "    tweet = \" \".join([word for word in tweet if not word in stop_words])\n",
        "    \n",
        "    return tweet"
      ],
      "metadata": {
        "execution": {
          "iopub.status.busy": "2022-03-03T04:49:44.240134Z",
          "iopub.execute_input": "2022-03-03T04:49:44.240798Z",
          "iopub.status.idle": "2022-03-03T04:49:44.246162Z",
          "shell.execute_reply.started": "2022-03-03T04:49:44.240761Z",
          "shell.execute_reply": "2022-03-03T04:49:44.245317Z"
        },
        "trusted": true,
        "id": "0sB2JxmYK_K-"
      },
      "execution_count": 11,
      "outputs": []
    },
    {
      "cell_type": "code",
      "source": [
        "#Defining a variable for stopwords\n",
        "import nltk\n",
        "nltk.download('stopwords')\n",
        "stop_words = stopwords.words('english')"
      ],
      "metadata": {
        "execution": {
          "iopub.status.busy": "2022-03-03T04:49:44.439156Z",
          "iopub.execute_input": "2022-03-03T04:49:44.439754Z",
          "iopub.status.idle": "2022-03-03T04:49:44.443799Z",
          "shell.execute_reply.started": "2022-03-03T04:49:44.439718Z",
          "shell.execute_reply": "2022-03-03T04:49:44.443002Z"
        },
        "trusted": true,
        "colab": {
          "base_uri": "https://localhost:8080/"
        },
        "id": "jsgDDh50K_K_",
        "outputId": "27f24aae-24ea-4486-c75c-83fe1013569f"
      },
      "execution_count": 19,
      "outputs": [
        {
          "output_type": "stream",
          "name": "stdout",
          "text": [
            "[nltk_data] Downloading package stopwords to /root/nltk_data...\n",
            "[nltk_data]   Unzipping corpora/stopwords.zip.\n"
          ]
        }
      ]
    },
    {
      "cell_type": "code",
      "source": [
        "#Apply the above defined function to train dataset\n",
        "X_cleaned = X.apply(data_cleaner)\n",
        "X_cleaned.head()"
      ],
      "metadata": {
        "execution": {
          "iopub.status.busy": "2022-03-03T04:49:44.706904Z",
          "iopub.execute_input": "2022-03-03T04:49:44.707162Z",
          "iopub.status.idle": "2022-03-03T04:49:47.095175Z",
          "shell.execute_reply.started": "2022-03-03T04:49:44.707136Z",
          "shell.execute_reply": "2022-03-03T04:49:47.094350Z"
        },
        "trusted": true,
        "colab": {
          "base_uri": "https://localhost:8080/"
        },
        "id": "Fjc4NvO9K_K_",
        "outputId": "8c3d73ab-99e8-4716-d0a2-d6947224efa0"
      },
      "execution_count": 20,
      "outputs": [
        {
          "output_type": "execute_result",
          "data": {
            "text/plain": [
              "0    TRENDING: New Yorkers encounter empty supermar...\n",
              "1    When I find hand sanitizer Fred Meyer, I turne...\n",
              "2                          Find protect loved ones . ?\n",
              "3    buying hits City anxious shoppers stock food&a...\n",
              "4    # News # NewsMelb One week everyone buying bab...\n",
              "Name: OriginalTweet, dtype: object"
            ]
          },
          "metadata": {},
          "execution_count": 20
        }
      ]
    },
    {
      "cell_type": "code",
      "source": [
        "tokenizer = Tokenizer()\n",
        "tokenizer.fit_on_texts(X_cleaned)\n",
        "X = tokenizer.texts_to_sequences(X_cleaned)\n",
        "vocab_size = len(tokenizer.word_index)+1\n",
        "\n",
        "print(\"Vocabulary size: {}\".format(vocab_size))\n",
        "print(\"\\nFor Example:\\n\")\n",
        "print(\"Sentence:\\n{}\".format(X_cleaned[1]))\n",
        "print(\"\\nAfter tokenizing :\\n{}\".format(X[1]))\n",
        "\n",
        "X = pad_sequences(X, padding='post')\n",
        "print(\"\\nAfter padding :\\n{}\".format(X[1]))"
      ],
      "metadata": {
        "execution": {
          "iopub.status.busy": "2022-03-03T04:49:47.096969Z",
          "iopub.execute_input": "2022-03-03T04:49:47.097405Z",
          "iopub.status.idle": "2022-03-03T04:49:48.953243Z",
          "shell.execute_reply.started": "2022-03-03T04:49:47.097367Z",
          "shell.execute_reply": "2022-03-03T04:49:48.952412Z"
        },
        "trusted": true,
        "colab": {
          "base_uri": "https://localhost:8080/"
        },
        "id": "dkXE7Ip2K_K_",
        "outputId": "1a282b42-3781-43a7-b253-96cce6f27920"
      },
      "execution_count": 21,
      "outputs": [
        {
          "output_type": "stream",
          "name": "stdout",
          "text": [
            "Vocabulary size: 9846\n",
            "\n",
            "For Example:\n",
            "\n",
            "Sentence:\n",
            "When I find hand sanitizer Fred Meyer, I turned . But $ . pack Purell??!!Check concerns driving prices.\n",
            "\n",
            "After tokenizing :\n",
            "[164, 2, 193, 53, 113, 3363, 3364, 2, 2184, 157, 811, 4766, 189, 480, 1259, 13]\n",
            "\n",
            "After padding :\n",
            "[ 164    2  193   53  113 3363 3364    2 2184  157  811 4766  189  480\n",
            " 1259   13    0    0    0    0    0    0    0    0    0    0    0    0\n",
            "    0    0    0    0    0    0    0    0    0    0    0    0    0    0\n",
            "    0    0    0    0    0    0]\n"
          ]
        }
      ]
    },
    {
      "cell_type": "markdown",
      "source": [
        "- There are five types of sentiments initially in the dataset. We can club Extremely Negative and Negative tweets together for ease and the same for Extremely Positive and Positive tweets.\n"
      ],
      "metadata": {
        "id": "ZYzc2qqkK_LA"
      }
    },
    {
      "cell_type": "code",
      "source": [
        "encoding = {'Extremely Negative': 0,'Negative': 0,'Neutral': 1,'Positive':2,'Extremely Positive': 2}\n",
        "\n",
        "labels = ['Negative', 'Neutral', 'Positive']\n",
        "           \n",
        "y.replace(encoding, inplace=True)\n",
        "y"
      ],
      "metadata": {
        "execution": {
          "iopub.status.busy": "2022-03-03T04:49:48.954696Z",
          "iopub.execute_input": "2022-03-03T04:49:48.955132Z",
          "iopub.status.idle": "2022-03-03T04:49:48.982966Z",
          "shell.execute_reply.started": "2022-03-03T04:49:48.955092Z",
          "shell.execute_reply": "2022-03-03T04:49:48.981781Z"
        },
        "trusted": true,
        "colab": {
          "base_uri": "https://localhost:8080/"
        },
        "id": "NceD4cI_K_LA",
        "outputId": "432df1c1-22e1-496e-c34d-d4a24dd2b90e"
      },
      "execution_count": 22,
      "outputs": [
        {
          "output_type": "execute_result",
          "data": {
            "text/plain": [
              "0       0\n",
              "1       2\n",
              "2       2\n",
              "3       0\n",
              "4       1\n",
              "       ..\n",
              "3793    2\n",
              "3794    0\n",
              "3795    1\n",
              "3796    0\n",
              "3797    2\n",
              "Name: Sentiment, Length: 3798, dtype: int64"
            ]
          },
          "metadata": {},
          "execution_count": 22
        }
      ]
    },
    {
      "cell_type": "markdown",
      "source": [
        "- Define a neural network model"
      ],
      "metadata": {
        "id": "l45LE1BgK_LB"
      }
    },
    {
      "cell_type": "code",
      "source": [
        "tf.keras.backend.clear_session()\n",
        "\n",
        "# Initialize hyper parameters\n",
        "EPOCHS = 2\n",
        "BATCH_SIZE = 32\n",
        "embedding_dim = 16\n",
        "units = 256\n",
        "\n",
        "#Create a Sequential Model\n",
        "model = tf.keras.Sequential([\n",
        "    L.Embedding(vocab_size, embedding_dim, input_length=X.shape[1]),\n",
        "    L.Bidirectional(L.LSTM(units,return_sequences=True)),\n",
        "    L.GlobalMaxPool1D(),\n",
        "    L.Dropout(0.4),\n",
        "    L.Dense(64, activation=\"relu\"),\n",
        "    L.Dropout(0.4),\n",
        "    L.Dense(3)\n",
        "])"
      ],
      "metadata": {
        "execution": {
          "iopub.status.busy": "2022-03-03T04:51:14.368719Z",
          "iopub.execute_input": "2022-03-03T04:51:14.369000Z",
          "iopub.status.idle": "2022-03-03T04:51:14.870429Z",
          "shell.execute_reply.started": "2022-03-03T04:51:14.368968Z",
          "shell.execute_reply": "2022-03-03T04:51:14.869572Z"
        },
        "trusted": true,
        "id": "vRm1-JcgK_LB"
      },
      "execution_count": 23,
      "outputs": []
    },
    {
      "cell_type": "code",
      "source": [
        "#Compile the model\n",
        "model.compile(loss=SparseCategoricalCrossentropy(from_logits=True),optimizer='adam',metrics=['accuracy'])"
      ],
      "metadata": {
        "execution": {
          "iopub.status.busy": "2022-03-03T04:51:14.871809Z",
          "iopub.execute_input": "2022-03-03T04:51:14.872033Z",
          "iopub.status.idle": "2022-03-03T04:51:14.880576Z",
          "shell.execute_reply.started": "2022-03-03T04:51:14.872006Z",
          "shell.execute_reply": "2022-03-03T04:51:14.879760Z"
        },
        "trusted": true,
        "id": "I5C7ZR67K_LC"
      },
      "execution_count": 24,
      "outputs": []
    },
    {
      "cell_type": "code",
      "source": [
        ""
      ],
      "metadata": {
        "trusted": true,
        "id": "3yzDUzcZK_LC"
      },
      "execution_count": 24,
      "outputs": []
    },
    {
      "cell_type": "code",
      "source": [
        "history = model.fit(X, y, epochs=EPOCHS, validation_split=0.12, batch_size=BATCH_SIZE)"
      ],
      "metadata": {
        "execution": {
          "iopub.status.busy": "2022-03-03T04:51:17.113187Z",
          "iopub.execute_input": "2022-03-03T04:51:17.113485Z",
          "iopub.status.idle": "2022-03-03T04:57:12.042091Z",
          "shell.execute_reply.started": "2022-03-03T04:51:17.113454Z",
          "shell.execute_reply": "2022-03-03T04:57:12.041478Z"
        },
        "trusted": true,
        "colab": {
          "base_uri": "https://localhost:8080/"
        },
        "id": "aV1kq2mAK_LC",
        "outputId": "dc59c6ff-db16-4889-f964-eeaff8b238bf"
      },
      "execution_count": 25,
      "outputs": [
        {
          "output_type": "stream",
          "name": "stdout",
          "text": [
            "Epoch 1/2\n",
            "105/105 [==============================] - 34s 286ms/step - loss: 1.0142 - accuracy: 0.4354 - val_loss: 0.9870 - val_accuracy: 0.4276\n",
            "Epoch 2/2\n",
            "105/105 [==============================] - 27s 259ms/step - loss: 0.9099 - accuracy: 0.4949 - val_loss: 0.9132 - val_accuracy: 0.6382\n"
          ]
        }
      ]
    },
    {
      "cell_type": "code",
      "source": [
        "X_test = test['OriginalTweet'].copy()\n",
        "y_test = test['Sentiment'].copy()\n",
        "\n",
        "#Apply the tweets preprocessing functions to test dataset\n",
        "X_test = X_test.apply(data_cleaner)\n",
        "\n",
        "X_test = tokenizer.texts_to_sequences(X_test)\n",
        "\n",
        "X_test = pad_sequences(X_test, padding='post')\n",
        "\n",
        "y_test.replace(encoding, inplace=True)"
      ],
      "metadata": {
        "execution": {
          "iopub.status.busy": "2022-03-03T04:57:47.196462Z",
          "iopub.execute_input": "2022-03-03T04:57:47.197000Z",
          "iopub.status.idle": "2022-03-03T04:57:47.523682Z",
          "shell.execute_reply.started": "2022-03-03T04:57:47.196965Z",
          "shell.execute_reply": "2022-03-03T04:57:47.522933Z"
        },
        "trusted": true,
        "id": "3MDLBGVEK_LC"
      },
      "execution_count": 26,
      "outputs": []
    },
    {
      "cell_type": "code",
      "source": [
        "pred = model.predict(X_test)\n",
        "pred"
      ],
      "metadata": {
        "execution": {
          "iopub.status.busy": "2022-03-03T04:57:48.223093Z",
          "iopub.execute_input": "2022-03-03T04:57:48.223368Z",
          "iopub.status.idle": "2022-03-03T04:57:52.861263Z",
          "shell.execute_reply.started": "2022-03-03T04:57:48.223336Z",
          "shell.execute_reply": "2022-03-03T04:57:52.860582Z"
        },
        "trusted": true,
        "colab": {
          "base_uri": "https://localhost:8080/"
        },
        "id": "139kjA5aK_LD",
        "outputId": "91ef055a-ce22-4d4f-fc1a-45720e7d2aab"
      },
      "execution_count": 27,
      "outputs": [
        {
          "output_type": "execute_result",
          "data": {
            "text/plain": [
              "array([[ 0.9165603 , -1.4173925 ,  0.7718682 ],\n",
              "       [ 0.9133649 , -1.6009263 ,  1.0760461 ],\n",
              "       [ 0.25004283, -0.5677537 ,  0.38300276],\n",
              "       ...,\n",
              "       [-0.17504463,  0.08242936, -0.15889776],\n",
              "       [ 1.2730256 , -2.0942228 ,  1.2558697 ],\n",
              "       [ 0.89198387, -1.514754  ,  0.96875143]], dtype=float32)"
            ]
          },
          "metadata": {},
          "execution_count": 27
        }
      ]
    },
    {
      "cell_type": "code",
      "source": [
        "loss, acc = model.evaluate(X_test,y_test,verbose=0)\n",
        "print('Test loss: {}'.format(loss))\n",
        "print('Test Accuracy: {}'.format(acc))"
      ],
      "metadata": {
        "execution": {
          "iopub.status.busy": "2022-03-03T04:57:54.090791Z",
          "iopub.execute_input": "2022-03-03T04:57:54.091086Z",
          "iopub.status.idle": "2022-03-03T04:57:58.775621Z",
          "shell.execute_reply.started": "2022-03-03T04:57:54.091056Z",
          "shell.execute_reply": "2022-03-03T04:57:58.775000Z"
        },
        "trusted": true,
        "colab": {
          "base_uri": "https://localhost:8080/"
        },
        "id": "zNPBeJD0K_LD",
        "outputId": "e2298ced-0d96-44ce-fb7e-00cc179c3de7"
      },
      "execution_count": 28,
      "outputs": [
        {
          "output_type": "stream",
          "name": "stdout",
          "text": [
            "Test loss: 0.7801228761672974\n",
            "Test Accuracy: 0.7185360789299011\n"
          ]
        }
      ]
    },
    {
      "cell_type": "code",
      "source": [
        ""
      ],
      "metadata": {
        "trusted": true,
        "id": "piSE0UmPK_LD"
      },
      "execution_count": null,
      "outputs": []
    },
    {
      "cell_type": "code",
      "source": [
        ""
      ],
      "metadata": {
        "id": "7DvnkdEVK_LE"
      },
      "execution_count": null,
      "outputs": []
    }
  ]
}